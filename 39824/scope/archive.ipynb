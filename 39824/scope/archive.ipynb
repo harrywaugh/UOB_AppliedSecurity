{
 "cells": [
  {
   "cell_type": "code",
   "execution_count": 1,
   "metadata": {},
   "outputs": [],
   "source": [
    "# plt.ioff()\n",
    "# ncol = 1\n",
    "# nrow = 1\n",
    "# # plt.figure(figsize=(6*nrow, 5*ncol))\n",
    "\n",
    "# for plot_i in range(1, nrow*ncol+1):\n",
    "#     plt.subplot(ncol, nrow, plot_i)\n",
    "#     voltages=T[:, int(np.random.uniform(0,s,1)[0])]\n",
    "\n",
    "#     # the histogram of the data\n",
    "#     count, bins, ignored = plt.hist(voltages, bins=15, density=True, facecolor='blue', alpha=0.45)\n",
    "\n",
    "#     mu, std = norm.fit(voltages)\n",
    "#     # Plot the PDF.\n",
    "#     xmin, xmax = plt.xlim()\n",
    "#     x = np.linspace(xmin, xmax, 1000)\n",
    "#     p = norm.pdf(x, mu, std)\n",
    "#     plt.plot(x, p, 'r--', linewidth=5)\n",
    "\n",
    "\n",
    "#     plt.xlabel('Voltage')\n",
    "#     plt.ylabel('Frequency')\n",
    "#     title = \"mu = %.2f,  std = %.2f\" % (mu, std)\n",
    "#     plt.title(title)\n",
    "\n",
    "# plt.show()"
   ]
  },
  {
   "cell_type": "code",
   "execution_count": null,
   "metadata": {},
   "outputs": [],
   "source": [
    "# fig=plt.figure(figsize=(12, 8))\n",
    "# axs=plt.subplot(111)\n",
    "# color = brewer2mpl.get_map('Set1', 'Qualitative', 9).mpl_colors\n",
    "# fig.canvas.draw()\n",
    "# plt.plot(mean_trace)\n",
    "\n",
    "# iteration_len=11100\n",
    "\n",
    "# rect = Rectangle(xy=np.asarray([0, -35000]), width=600, height=55000, facecolor=color[0], alpha=0.6)\n",
    "# axs.add_patch(rect)\n",
    "# for i in range(9): ## AddRoundKey\n",
    "#     rect = Rectangle(xy=np.asarray([12100+i*iteration_len, -35000]), width=600, height=55000, facecolor=color[0], alpha=0.6)\n",
    "#     axs.add_patch(rect)\n",
    "    \n",
    "# for i in range(9): ## Mix Columns\n",
    "#     rect = Rectangle(xy=np.asarray([6400+i*iteration_len, -35000]), width=5700, height=55000, facecolor=color[2], alpha=0.6)\n",
    "#     axs.add_patch(rect)\n",
    "\n",
    "# for i in range(10): ## SubBytes\n",
    "#     rect = Rectangle(xy=np.asarray([1650+i*iteration_len, -35000]), width=1850, height=55000, facecolor=color[4], alpha=0.6)\n",
    "#     axs.add_patch(rect)\n",
    "# plt.savefig('labelled_trace.pdf')\n",
    "\n",
    "# plt.show()\n",
    "# print(\"AddRoundKey  : RED\")\n",
    "# print(\"SubBytes     : ORANGE\")\n",
    "# print(\"ShiftRows    : \")\n",
    "# print(\"MixColumns   : GREEN\")\n",
    "# print(\"RoundKeyStep : \")\n",
    "\n"
   ]
  },
  {
   "cell_type": "code",
   "execution_count": 2,
   "metadata": {},
   "outputs": [],
   "source": [
    "# plt.ioff()\n",
    "# print(mean_trace.shape)\n",
    "# ncol = 1\n",
    "# nrow = 1\n",
    "# plt.figure(figsize=(12*nrow, 7*ncol))\n",
    "\n",
    "# for plot_i in range(1, nrow*ncol+1):\n",
    "#     plt.subplot(ncol, nrow, plot_i)\n",
    "#     voltages = mean_trace\n",
    "\n",
    "#     # the histogram of the data\n",
    "#     count, bins, ignored = plt.hist(voltages, bins=1000, density=True, facecolor='blue', alpha=0.7)\n",
    "\n",
    "#     plt.xlabel('Voltage')\n",
    "#     plt.ylabel('Frequency')\n",
    "    \n",
    "\n",
    "# plt.show()"
   ]
  },
  {
   "cell_type": "code",
   "execution_count": null,
   "metadata": {},
   "outputs": [],
   "source": [
    "import scipy\n",
    "x = np.linspace(1, 10, 101)\n",
    "y = np.random.rand(101)\n",
    "print(correlation(x, y))\n",
    "print(np.corrcoef(x, y))\n",
    "print(scipy.stats.pearsonr(x, y))\n",
    "plt.cla()\n",
    "plt.plot(x, y)\n",
    "plt.show()"
   ]
  }
 ],
 "metadata": {
  "kernelspec": {
   "display_name": "Python 3",
   "language": "python",
   "name": "python3"
  },
  "language_info": {
   "codemirror_mode": {
    "name": "ipython",
    "version": 3
   },
   "file_extension": ".py",
   "mimetype": "text/x-python",
   "name": "python",
   "nbconvert_exporter": "python",
   "pygments_lexer": "ipython3",
   "version": "3.6.6"
  }
 },
 "nbformat": 4,
 "nbformat_minor": 2
}
